{
 "cells": [
  {
   "cell_type": "markdown",
   "id": "123ce513",
   "metadata": {},
   "source": [
    "Project 1. Goal: write an algoritm to find genes"
   ]
  },
  {
   "cell_type": "code",
   "execution_count": null,
   "id": "a55b6236",
   "metadata": {},
   "outputs": [],
   "source": [
    "start_pos = []  # list\n",
    "start_pos = []  # list\n",
    "genome = open (/home/sveta/bioinformatics_course/lesson3_13.09/ecoli_10k.fasta.)\n",
    "start = \"ATG\"\n",
    "stop = [\"TAG\",\"TGA\",\"TAA\"]\n",
    "for pos,i "
   ]
  },
  {
   "cell_type": "code",
   "execution_count": null,
   "id": "a33e23fe",
   "metadata": {},
   "outputs": [],
   "source": [
    "with open('/home/sveta/bioinformatics_course/lesson3_13.09/ecoli_10k.fasta') as file:\n",
    "    first_line = file.readline()\n",
    "    for line in file:\n",
    "        print(line)\n",
    "genome_file.close()"
   ]
  },
  {
   "cell_type": "code",
   "execution_count": null,
   "id": "e32b56f9",
   "metadata": {},
   "outputs": [],
   "source": [
    "genome = '/home/sveta/bioinformatics_course/lesson3_13.09/ecoli_10k.fasta'"
   ]
  },
  {
   "cell_type": "code",
   "execution_count": null,
   "id": "cb18a5ea",
   "metadata": {},
   "outputs": [],
   "source": [
    "start = 'ATG'\n",
    "stop = ['TAG', 'TGA', 'TAA']"
   ]
  },
  {
   "cell_type": "code",
   "execution_count": null,
   "id": "af35225f",
   "metadata": {},
   "outputs": [],
   "source": [
    "with open(genome) as file:\n",
    "    first_line = file.readline()\n",
    "    lines = file.read().split('\\n')\n",
    "lines = ''.join(lines)"
   ]
  },
  {
   "cell_type": "code",
   "execution_count": null,
   "id": "f9671f4a",
   "metadata": {},
   "outputs": [],
   "source": [
    "lines"
   ]
  },
  {
   "cell_type": "code",
   "execution_count": null,
   "id": "385dd895",
   "metadata": {},
   "outputs": [],
   "source": [
    "def build_kmers(sequence, ksize):\n",
    "    kmers = []\n",
    "    n_kmers = len(sequence) - ksize + 1\n",
    "\n",
    "    for i in range(n_kmers):\n",
    "        kmer = sequence[i:i + ksize]\n",
    "        kmers.append(kmer)\n",
    "\n",
    "    return kmers"
   ]
  },
  {
   "cell_type": "code",
   "execution_count": null,
   "id": "95a8c409",
   "metadata": {},
   "outputs": [],
   "source": [
    "first_line"
   ]
  },
  {
   "cell_type": "code",
   "execution_count": null,
   "id": "6f2a9d4d",
   "metadata": {},
   "outputs": [],
   "source": [
    "ind_dict = {'start': [], 'stop': []}"
   ]
  },
  {
   "cell_type": "code",
   "execution_count": null,
   "id": "b276e612",
   "metadata": {},
   "outputs": [],
   "source": [
    "all_kmers_1 = build_kmers(lines, 3)"
   ]
  },
  {
   "cell_type": "code",
   "execution_count": null,
   "id": "ec8de45e",
   "metadata": {},
   "outputs": [],
   "source": [
    "ind_dict = {'start': [], 'stop': []}\n",
    "i = 0\n",
    "for kmer in all_kmers_1:\n",
    "    if kmer == start:\n",
    "        ind_dict['start'].append(i)\n",
    "    if kmer in stop:\n",
    "        ind_dict['stop'].append(i) \n",
    "    i += 1\n",
    "ind_dict"
   ]
  },
  {
   "cell_type": "markdown",
   "id": "0f9e994b",
   "metadata": {},
   "source": [
    "подбор орф, исключая вложенные. Это все на части хромосомы, линейное."
   ]
  },
  {
   "cell_type": "code",
   "execution_count": null,
   "id": "4ba8a48e",
   "metadata": {},
   "outputs": [],
   "source": [
    "starts = ind_dict['start']\n",
    "stops = ind_dict['stop']\n",
    "locations = []\n",
    "last_stop = 0\n",
    "\n",
    "for start in starts:\n",
    "    if start <= last_stop:\n",
    "        continue\n",
    "    for stop in stops:\n",
    "        if stop < start:\n",
    "            continue\n",
    "        if (stop - start) % 3 != 0:\n",
    "            continue\n",
    "        locations.append((start, stop))\n",
    "        last_stop = stop + 2\n",
    "        break\n",
    "locations"
   ]
  },
  {
   "cell_type": "markdown",
   "id": "f23be388",
   "metadata": {},
   "source": [
    "запись координат кодонов и самой послеовательности в файл"
   ]
  },
  {
   "cell_type": "code",
   "execution_count": null,
   "id": "56008d3c",
   "metadata": {},
   "outputs": [],
   "source": [
    "with open('out.fasta', mode='w') as f:\n",
    "\n",
    "    for i, (start, stop) in enumerate(locations):\n",
    "        print(f'>gene{i}_{start+1}_{stop+3}\\n', lines[start:stop], file=f)"
   ]
  },
  {
   "cell_type": "code",
   "execution_count": null,
   "id": "572fdbdf",
   "metadata": {},
   "outputs": [],
   "source": []
  }
 ],
 "metadata": {
  "kernelspec": {
   "display_name": "Python 3 (ipykernel)",
   "language": "python",
   "name": "python3"
  },
  "language_info": {
   "codemirror_mode": {
    "name": "ipython",
    "version": 3
   },
   "file_extension": ".py",
   "mimetype": "text/x-python",
   "name": "python",
   "nbconvert_exporter": "python",
   "pygments_lexer": "ipython3",
   "version": "3.9.5"
  }
 },
 "nbformat": 4,
 "nbformat_minor": 5
}
